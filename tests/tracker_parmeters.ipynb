{
 "cells": [
  {
   "cell_type": "markdown",
   "metadata": {},
   "source": [
    "# Optimizing ByteTrack parameters"
   ]
  },
  {
   "cell_type": "code",
   "execution_count": 10,
   "metadata": {},
   "outputs": [
    {
     "name": "stderr",
     "output_type": "stream",
     "text": [
      "\n",
      "0: 128x1024 (no detections), 59.6ms\n",
      "Speed: 0.0ms preprocess, 59.6ms inference, 0.0ms postprocess per image at shape (1, 3, 128, 1024)\n",
      "\n",
      "0: 128x1024 2 humanss, 55.2ms\n",
      "Speed: 0.0ms preprocess, 55.2ms inference, 0.0ms postprocess per image at shape (1, 3, 128, 1024)\n"
     ]
    },
    {
     "name": "stdout",
     "output_type": "stream",
     "text": [
      "{'preprocess': 0.0, 'inference': 59.63134765625, 'postprocess': 0.0}\n",
      "{'preprocess': 0.0, 'inference': 55.193424224853516, 'postprocess': 0.0}\n"
     ]
    },
    {
     "name": "stderr",
     "output_type": "stream",
     "text": [
      "\n",
      "0: 128x1024 2 humanss, 57.2ms\n",
      "Speed: 0.0ms preprocess, 57.2ms inference, 1.2ms postprocess per image at shape (1, 3, 128, 1024)\n",
      "\n",
      "0: 128x1024 2 humanss, 58.0ms\n",
      "Speed: 1.0ms preprocess, 58.0ms inference, 1.0ms postprocess per image at shape (1, 3, 128, 1024)\n",
      "\n",
      "0: 128x1024 2 humanss, 59.9ms\n"
     ]
    },
    {
     "name": "stdout",
     "output_type": "stream",
     "text": [
      "{'preprocess': 0.0, 'inference': 57.18994140625, 'postprocess': 1.209259033203125}\n",
      "{'preprocess': 1.0251998901367188, 'inference': 58.00962448120117, 'postprocess': 1.0018348693847656}\n"
     ]
    },
    {
     "name": "stderr",
     "output_type": "stream",
     "text": [
      "Speed: 1.0ms preprocess, 59.9ms inference, 1.0ms postprocess per image at shape (1, 3, 128, 1024)\n",
      "\n",
      "0: 128x1024 2 humanss, 59.1ms\n",
      "Speed: 1.0ms preprocess, 59.1ms inference, 1.0ms postprocess per image at shape (1, 3, 128, 1024)\n",
      "\n",
      "0: 128x1024 2 humanss, 57.4ms\n"
     ]
    },
    {
     "name": "stdout",
     "output_type": "stream",
     "text": [
      "{'preprocess': 1.003265380859375, 'inference': 59.871673583984375, 'postprocess': 1.0044574737548828}\n",
      "{'preprocess': 1.0027885437011719, 'inference': 59.149980545043945, 'postprocess': 1.001119613647461}\n"
     ]
    },
    {
     "name": "stderr",
     "output_type": "stream",
     "text": [
      "Speed: 0.0ms preprocess, 57.4ms inference, 1.0ms postprocess per image at shape (1, 3, 128, 1024)\n",
      "\n",
      "0: 128x1024 2 humanss, 54.9ms\n",
      "Speed: 0.0ms preprocess, 54.9ms inference, 1.1ms postprocess per image at shape (1, 3, 128, 1024)\n",
      "\n",
      "0: 128x1024 2 humanss, 55.2ms\n"
     ]
    },
    {
     "name": "stdout",
     "output_type": "stream",
     "text": [
      "{'preprocess': 0.0, 'inference': 57.396888732910156, 'postprocess': 1.0027885437011719}\n",
      "{'preprocess': 0.0, 'inference': 54.949283599853516, 'postprocess': 1.107931137084961}\n"
     ]
    },
    {
     "name": "stderr",
     "output_type": "stream",
     "text": [
      "Speed: 0.0ms preprocess, 55.2ms inference, 1.0ms postprocess per image at shape (1, 3, 128, 1024)\n",
      "\n",
      "0: 128x1024 2 humanss, 64.0ms\n",
      "Speed: 0.0ms preprocess, 64.0ms inference, 1.3ms postprocess per image at shape (1, 3, 128, 1024)\n",
      "\n",
      "0: 128x1024 2 humanss, 51.6ms\n"
     ]
    },
    {
     "name": "stdout",
     "output_type": "stream",
     "text": [
      "{'preprocess': 0.0, 'inference': 55.159807205200195, 'postprocess': 1.0056495666503906}\n",
      "{'preprocess': 0.0, 'inference': 64.00752067565918, 'postprocess': 1.3093948364257812}\n"
     ]
    },
    {
     "name": "stderr",
     "output_type": "stream",
     "text": [
      "Speed: 0.0ms preprocess, 51.6ms inference, 0.0ms postprocess per image at shape (1, 3, 128, 1024)\n",
      "\n",
      "0: 128x1024 2 humanss, 53.4ms\n",
      "Speed: 0.0ms preprocess, 53.4ms inference, 1.0ms postprocess per image at shape (1, 3, 128, 1024)\n",
      "\n",
      "0: 128x1024 2 humanss, 55.9ms\n"
     ]
    },
    {
     "name": "stdout",
     "output_type": "stream",
     "text": [
      "{'preprocess': 0.0, 'inference': 51.63908004760742, 'postprocess': 0.0}\n",
      "{'preprocess': 0.0, 'inference': 53.37858200073242, 'postprocess': 1.0042190551757812}\n"
     ]
    },
    {
     "name": "stderr",
     "output_type": "stream",
     "text": [
      "Speed: 0.0ms preprocess, 55.9ms inference, 1.2ms postprocess per image at shape (1, 3, 128, 1024)\n",
      "\n",
      "0: 128x1024 2 humanss, 57.1ms\n",
      "Speed: 0.0ms preprocess, 57.1ms inference, 0.0ms postprocess per image at shape (1, 3, 128, 1024)\n",
      "\n",
      "0: 128x1024 2 humanss, 52.0ms\n",
      "Speed: 1.4ms preprocess, 52.0ms inference, 1.3ms postprocess per image at shape (1, 3, 128, 1024)\n",
      "\n"
     ]
    },
    {
     "name": "stdout",
     "output_type": "stream",
     "text": [
      "{'preprocess': 0.0, 'inference': 55.88245391845703, 'postprocess': 1.2290477752685547}\n",
      "{'preprocess': 0.0, 'inference': 57.0523738861084, 'postprocess': 0.0}\n",
      "{'preprocess': 1.4450550079345703, 'inference': 52.00362205505371, 'postprocess': 1.2698173522949219}\n"
     ]
    },
    {
     "name": "stderr",
     "output_type": "stream",
     "text": [
      "0: 128x1024 2 humanss, 54.5ms\n",
      "Speed: 1.0ms preprocess, 54.5ms inference, 0.0ms postprocess per image at shape (1, 3, 128, 1024)\n",
      "\n",
      "0: 128x1024 2 humanss, 53.0ms\n",
      "Speed: 1.0ms preprocess, 53.0ms inference, 0.0ms postprocess per image at shape (1, 3, 128, 1024)\n",
      "\n"
     ]
    },
    {
     "name": "stdout",
     "output_type": "stream",
     "text": [
      "{'preprocess': 1.0027885437011719, 'inference': 54.46362495422363, 'postprocess': 0.0}\n",
      "{'preprocess': 1.003265380859375, 'inference': 52.97541618347168, 'postprocess': 0.0}\n"
     ]
    },
    {
     "name": "stderr",
     "output_type": "stream",
     "text": [
      "0: 128x1024 2 humanss, 52.3ms\n",
      "Speed: 1.0ms preprocess, 52.3ms inference, 1.0ms postprocess per image at shape (1, 3, 128, 1024)\n",
      "\n",
      "0: 128x1024 1 humans, 57.1ms\n",
      "Speed: 0.0ms preprocess, 57.1ms inference, 1.0ms postprocess per image at shape (1, 3, 128, 1024)\n",
      "\n",
      "0: 128x1024 2 humanss, 56.9ms\n"
     ]
    },
    {
     "name": "stdout",
     "output_type": "stream",
     "text": [
      "{'preprocess': 1.0023117065429688, 'inference': 52.29473114013672, 'postprocess': 1.0025501251220703}\n",
      "{'preprocess': 0.0, 'inference': 57.115793228149414, 'postprocess': 1.0018348693847656}\n"
     ]
    },
    {
     "name": "stderr",
     "output_type": "stream",
     "text": [
      "Speed: 0.0ms preprocess, 56.9ms inference, 1.0ms postprocess per image at shape (1, 3, 128, 1024)\n",
      "\n",
      "0: 128x1024 2 humanss, 54.1ms\n",
      "Speed: 1.0ms preprocess, 54.1ms inference, 1.1ms postprocess per image at shape (1, 3, 128, 1024)\n",
      "\n",
      "0: 128x1024 2 humanss, 53.8ms\n",
      "Speed: 1.2ms preprocess, 53.8ms inference, 1.0ms postprocess per image at shape (1, 3, 128, 1024)\n"
     ]
    },
    {
     "name": "stdout",
     "output_type": "stream",
     "text": [
      "{'preprocess': 0.0, 'inference': 56.90336227416992, 'postprocess': 1.0020732879638672}\n",
      "{'preprocess': 1.0025501251220703, 'inference': 54.116010665893555, 'postprocess': 1.1115074157714844}\n",
      "{'preprocess': 1.2161731719970703, 'inference': 53.75814437866211, 'postprocess': 1.0027885437011719}\n"
     ]
    },
    {
     "name": "stderr",
     "output_type": "stream",
     "text": [
      "\n",
      "0: 128x1024 2 humanss, 55.4ms\n",
      "Speed: 1.1ms preprocess, 55.4ms inference, 0.0ms postprocess per image at shape (1, 3, 128, 1024)\n",
      "\n",
      "0: 128x1024 2 humanss, 56.3ms\n",
      "Speed: 0.0ms preprocess, 56.3ms inference, 1.0ms postprocess per image at shape (1, 3, 128, 1024)\n",
      "\n",
      "0: 128x1024 1 humans, 48.5ms\n",
      "Speed: 0.0ms preprocess, 48.5ms inference, 1.5ms postprocess per image at shape (1, 3, 128, 1024)\n",
      "\n"
     ]
    },
    {
     "name": "stdout",
     "output_type": "stream",
     "text": [
      "{'preprocess': 1.1358261108398438, 'inference': 55.38177490234375, 'postprocess': 0.0}\n",
      "{'preprocess': 0.0, 'inference': 56.28800392150879, 'postprocess': 1.0030269622802734}\n",
      "{'preprocess': 0.0, 'inference': 48.450469970703125, 'postprocess': 1.4541149139404297}\n"
     ]
    },
    {
     "name": "stderr",
     "output_type": "stream",
     "text": [
      "0: 128x1024 1 humans, 57.3ms\n",
      "Speed: 1.2ms preprocess, 57.3ms inference, 0.0ms postprocess per image at shape (1, 3, 128, 1024)\n",
      "\n",
      "0: 128x1024 1 humans, 57.7ms\n",
      "Speed: 1.5ms preprocess, 57.7ms inference, 0.0ms postprocess per image at shape (1, 3, 128, 1024)\n",
      "\n",
      "0: 128x1024 1 humans, 55.5ms\n"
     ]
    },
    {
     "name": "stdout",
     "output_type": "stream",
     "text": [
      "{'preprocess': 1.1730194091796875, 'inference': 57.26957321166992, 'postprocess': 0.0}\n",
      "{'preprocess': 1.5020370483398438, 'inference': 57.6779842376709, 'postprocess': 0.0}\n"
     ]
    },
    {
     "name": "stderr",
     "output_type": "stream",
     "text": [
      "Speed: 1.0ms preprocess, 55.5ms inference, 0.0ms postprocess per image at shape (1, 3, 128, 1024)\n",
      "\n",
      "0: 128x1024 1 humans, 54.9ms\n",
      "Speed: 1.0ms preprocess, 54.9ms inference, 0.0ms postprocess per image at shape (1, 3, 128, 1024)\n",
      "\n",
      "0: 128x1024 1 humans, 53.6ms\n",
      "Speed: 1.3ms preprocess, 53.6ms inference, 1.0ms postprocess per image at shape (1, 3, 128, 1024)\n"
     ]
    },
    {
     "name": "stdout",
     "output_type": "stream",
     "text": [
      "{'preprocess': 1.0039806365966797, 'inference': 55.46712875366211, 'postprocess': 0.0}\n",
      "{'preprocess': 1.0039806365966797, 'inference': 54.91495132446289, 'postprocess': 0.0}\n"
     ]
    },
    {
     "name": "stderr",
     "output_type": "stream",
     "text": [
      "\n",
      "0: 128x1024 1 humans, 51.8ms\n",
      "Speed: 1.0ms preprocess, 51.8ms inference, 0.0ms postprocess per image at shape (1, 3, 128, 1024)\n",
      "\n",
      "0: 128x1024 1 humans, 55.1ms\n",
      "Speed: 0.0ms preprocess, 55.1ms inference, 1.0ms postprocess per image at shape (1, 3, 128, 1024)\n"
     ]
    },
    {
     "name": "stdout",
     "output_type": "stream",
     "text": [
      "{'preprocess': 1.2714862823486328, 'inference': 53.642988204956055, 'postprocess': 1.0027885437011719}\n",
      "{'preprocess': 1.0037422180175781, 'inference': 51.84602737426758, 'postprocess': 0.0}\n",
      "{'preprocess': 0.0, 'inference': 55.09376525878906, 'postprocess': 1.0023117065429688}\n"
     ]
    },
    {
     "name": "stderr",
     "output_type": "stream",
     "text": [
      "\n",
      "0: 128x1024 1 humans, 58.1ms\n",
      "Speed: 1.0ms preprocess, 58.1ms inference, 1.0ms postprocess per image at shape (1, 3, 128, 1024)\n",
      "\n",
      "0: 128x1024 1 humans, 54.3ms\n",
      "Speed: 0.0ms preprocess, 54.3ms inference, 0.0ms postprocess per image at shape (1, 3, 128, 1024)\n",
      "\n",
      "0: 128x1024 1 humans, 50.6ms\n",
      "Speed: 0.0ms preprocess, 50.6ms inference, 1.0ms postprocess per image at shape (1, 3, 128, 1024)\n"
     ]
    },
    {
     "name": "stdout",
     "output_type": "stream",
     "text": [
      "{'preprocess': 1.0030269622802734, 'inference': 58.09593200683594, 'postprocess': 1.0013580322265625}\n",
      "{'preprocess': 0.0, 'inference': 54.28194999694824, 'postprocess': 0.0}\n",
      "{'preprocess': 0.0, 'inference': 50.60696601867676, 'postprocess': 1.0249614715576172}\n"
     ]
    },
    {
     "name": "stderr",
     "output_type": "stream",
     "text": [
      "\n",
      "0: 128x1024 1 humans, 64.5ms\n",
      "Speed: 0.0ms preprocess, 64.5ms inference, 0.0ms postprocess per image at shape (1, 3, 128, 1024)\n",
      "\n",
      "0: 128x1024 1 humans, 54.4ms\n",
      "Speed: 0.0ms preprocess, 54.4ms inference, 1.0ms postprocess per image at shape (1, 3, 128, 1024)\n",
      "\n",
      "0: 128x1024 1 humans, 54.6ms\n"
     ]
    },
    {
     "name": "stdout",
     "output_type": "stream",
     "text": [
      "{'preprocess': 0.0, 'inference': 64.52131271362305, 'postprocess': 0.0}\n",
      "{'preprocess': 0.0, 'inference': 54.433345794677734, 'postprocess': 1.0025501251220703}\n"
     ]
    },
    {
     "name": "stderr",
     "output_type": "stream",
     "text": [
      "Speed: 0.0ms preprocess, 54.6ms inference, 0.0ms postprocess per image at shape (1, 3, 128, 1024)\n",
      "\n",
      "0: 128x1024 1 humans, 51.7ms\n",
      "Speed: 0.0ms preprocess, 51.7ms inference, 0.0ms postprocess per image at shape (1, 3, 128, 1024)\n",
      "\n"
     ]
    },
    {
     "name": "stdout",
     "output_type": "stream",
     "text": [
      "{'preprocess': 0.0, 'inference': 54.6112060546875, 'postprocess': 0.0}\n",
      "{'preprocess': 0.0, 'inference': 51.66006088256836, 'postprocess': 0.0}\n"
     ]
    },
    {
     "name": "stderr",
     "output_type": "stream",
     "text": [
      "0: 128x1024 1 humans, 54.2ms\n",
      "Speed: 1.0ms preprocess, 54.2ms inference, 0.0ms postprocess per image at shape (1, 3, 128, 1024)\n",
      "\n",
      "0: 128x1024 1 humans, 53.6ms\n",
      "Speed: 1.0ms preprocess, 53.6ms inference, 0.0ms postprocess per image at shape (1, 3, 128, 1024)\n",
      "\n",
      "0: 128x1024 1 humans, 53.3ms\n"
     ]
    },
    {
     "name": "stdout",
     "output_type": "stream",
     "text": [
      "{'preprocess': 1.0020732879638672, 'inference': 54.157257080078125, 'postprocess': 0.0}\n",
      "{'preprocess': 1.0025501251220703, 'inference': 53.63893508911133, 'postprocess': 0.0}\n"
     ]
    },
    {
     "name": "stderr",
     "output_type": "stream",
     "text": [
      "Speed: 1.0ms preprocess, 53.3ms inference, 1.0ms postprocess per image at shape (1, 3, 128, 1024)\n",
      "\n",
      "0: 128x1024 1 humans, 54.1ms\n",
      "Speed: 1.4ms preprocess, 54.1ms inference, 1.0ms postprocess per image at shape (1, 3, 128, 1024)\n",
      "\n",
      "0: 128x1024 1 humans, 54.6ms\n"
     ]
    },
    {
     "name": "stdout",
     "output_type": "stream",
     "text": [
      "{'preprocess': 1.0027885437011719, 'inference': 53.349971771240234, 'postprocess': 1.0023117065429688}\n",
      "{'preprocess': 1.3675689697265625, 'inference': 54.105520248413086, 'postprocess': 1.0030269622802734}\n"
     ]
    },
    {
     "name": "stderr",
     "output_type": "stream",
     "text": [
      "Speed: 0.0ms preprocess, 54.6ms inference, 0.0ms postprocess per image at shape (1, 3, 128, 1024)\n",
      "\n",
      "0: 128x1024 1 humans, 53.9ms\n",
      "Speed: 1.0ms preprocess, 53.9ms inference, 0.0ms postprocess per image at shape (1, 3, 128, 1024)\n",
      "\n",
      "0: 128x1024 1 humans, 56.9ms\n"
     ]
    },
    {
     "name": "stdout",
     "output_type": "stream",
     "text": [
      "{'preprocess': 0.0, 'inference': 54.64339256286621, 'postprocess': 0.0}\n",
      "{'preprocess': 1.003265380859375, 'inference': 53.88021469116211, 'postprocess': 0.0}\n"
     ]
    },
    {
     "name": "stderr",
     "output_type": "stream",
     "text": [
      "Speed: 0.0ms preprocess, 56.9ms inference, 0.0ms postprocess per image at shape (1, 3, 128, 1024)\n",
      "\n",
      "0: 128x1024 1 humans, 55.5ms\n",
      "Speed: 0.0ms preprocess, 55.5ms inference, 0.0ms postprocess per image at shape (1, 3, 128, 1024)\n",
      "\n",
      "0: 128x1024 2 humanss, 52.1ms\n"
     ]
    },
    {
     "name": "stdout",
     "output_type": "stream",
     "text": [
      "{'preprocess': 0.0, 'inference': 56.94770812988281, 'postprocess': 0.0}\n",
      "{'preprocess': 0.0, 'inference': 55.52482604980469, 'postprocess': 0.0}\n"
     ]
    },
    {
     "name": "stderr",
     "output_type": "stream",
     "text": [
      "Speed: 1.0ms preprocess, 52.1ms inference, 1.0ms postprocess per image at shape (1, 3, 128, 1024)\n",
      "\n",
      "0: 128x1024 2 humanss, 55.2ms\n",
      "Speed: 0.0ms preprocess, 55.2ms inference, 1.0ms postprocess per image at shape (1, 3, 128, 1024)\n",
      "\n",
      "0: 128x1024 2 humanss, 55.1ms\n"
     ]
    },
    {
     "name": "stdout",
     "output_type": "stream",
     "text": [
      "{'preprocess': 1.0025501251220703, 'inference': 52.13665962219238, 'postprocess': 1.0018348693847656}\n",
      "{'preprocess': 0.0, 'inference': 55.23228645324707, 'postprocess': 1.0030269622802734}\n"
     ]
    },
    {
     "name": "stderr",
     "output_type": "stream",
     "text": [
      "Speed: 1.0ms preprocess, 55.1ms inference, 0.0ms postprocess per image at shape (1, 3, 128, 1024)\n",
      "\n",
      "0: 128x1024 2 humanss, 56.1ms\n",
      "Speed: 0.0ms preprocess, 56.1ms inference, 1.0ms postprocess per image at shape (1, 3, 128, 1024)\n",
      "\n",
      "0: 128x1024 2 humanss, 52.1ms\n",
      "Speed: 0.0ms preprocess, 52.1ms inference, 1.1ms postprocess per image at shape (1, 3, 128, 1024)\n"
     ]
    },
    {
     "name": "stdout",
     "output_type": "stream",
     "text": [
      "{'preprocess': 1.003265380859375, 'inference': 55.14359474182129, 'postprocess': 0.0}\n",
      "{'preprocess': 0.0, 'inference': 56.06389045715332, 'postprocess': 1.0025501251220703}\n"
     ]
    },
    {
     "name": "stderr",
     "output_type": "stream",
     "text": [
      "\n",
      "0: 128x1024 2 humanss, 55.8ms\n",
      "Speed: 0.0ms preprocess, 55.8ms inference, 0.0ms postprocess per image at shape (1, 3, 128, 1024)\n",
      "\n",
      "0: 128x1024 1 humans, 51.2ms\n"
     ]
    },
    {
     "name": "stdout",
     "output_type": "stream",
     "text": [
      "{'preprocess': 0.0, 'inference': 52.13618278503418, 'postprocess': 1.0654926300048828}\n",
      "{'preprocess': 0.0, 'inference': 55.75680732727051, 'postprocess': 0.0}\n"
     ]
    },
    {
     "name": "stderr",
     "output_type": "stream",
     "text": [
      "Speed: 1.0ms preprocess, 51.2ms inference, 1.3ms postprocess per image at shape (1, 3, 128, 1024)\n",
      "\n",
      "0: 128x1024 1 humans, 51.0ms\n",
      "Speed: 1.3ms preprocess, 51.0ms inference, 1.0ms postprocess per image at shape (1, 3, 128, 1024)\n",
      "\n",
      "0: 128x1024 1 humans, 51.8ms\n"
     ]
    },
    {
     "name": "stdout",
     "output_type": "stream",
     "text": [
      "{'preprocess': 1.0042190551757812, 'inference': 51.22661590576172, 'postprocess': 1.2733936309814453}\n",
      "{'preprocess': 1.3318061828613281, 'inference': 51.009416580200195, 'postprocess': 1.0023117065429688}\n"
     ]
    },
    {
     "name": "stderr",
     "output_type": "stream",
     "text": [
      "Speed: 1.0ms preprocess, 51.8ms inference, 1.0ms postprocess per image at shape (1, 3, 128, 1024)\n",
      "\n",
      "0: 128x1024 1 humans, 53.3ms\n",
      "Speed: 0.0ms preprocess, 53.3ms inference, 0.0ms postprocess per image at shape (1, 3, 128, 1024)\n",
      "\n",
      "0: 128x1024 1 humans, 56.6ms\n"
     ]
    },
    {
     "name": "stdout",
     "output_type": "stream",
     "text": [
      "{'preprocess': 1.0035037994384766, 'inference': 51.828861236572266, 'postprocess': 1.003265380859375}\n",
      "{'preprocess': 0.0, 'inference': 53.27033996582031, 'postprocess': 0.0}\n"
     ]
    },
    {
     "name": "stderr",
     "output_type": "stream",
     "text": [
      "Speed: 0.0ms preprocess, 56.6ms inference, 1.0ms postprocess per image at shape (1, 3, 128, 1024)\n",
      "\n",
      "0: 128x1024 1 humans, 56.3ms\n",
      "Speed: 0.0ms preprocess, 56.3ms inference, 1.0ms postprocess per image at shape (1, 3, 128, 1024)\n",
      "\n",
      "0: 128x1024 1 humans, 70.4ms\n"
     ]
    },
    {
     "name": "stdout",
     "output_type": "stream",
     "text": [
      "{'preprocess': 0.0, 'inference': 56.64968490600586, 'postprocess': 1.0023117065429688}\n",
      "{'preprocess': 0.0, 'inference': 56.32305145263672, 'postprocess': 1.0020732879638672}\n"
     ]
    },
    {
     "name": "stderr",
     "output_type": "stream",
     "text": [
      "Speed: 1.0ms preprocess, 70.4ms inference, 0.0ms postprocess per image at shape (1, 3, 128, 1024)\n",
      "\n",
      "0: 128x1024 1 humans, 60.1ms\n",
      "Speed: 1.0ms preprocess, 60.1ms inference, 0.0ms postprocess per image at shape (1, 3, 128, 1024)\n",
      "\n",
      "0: 128x1024 1 humans, 51.6ms\n"
     ]
    },
    {
     "name": "stdout",
     "output_type": "stream",
     "text": [
      "{'preprocess': 1.0433197021484375, 'inference': 70.43194770812988, 'postprocess': 0.0}\n",
      "{'preprocess': 1.0027885437011719, 'inference': 60.12535095214844, 'postprocess': 0.0}\n"
     ]
    },
    {
     "name": "stderr",
     "output_type": "stream",
     "text": [
      "Speed: 1.0ms preprocess, 51.6ms inference, 0.0ms postprocess per image at shape (1, 3, 128, 1024)\n",
      "\n",
      "0: 128x1024 1 humans, 53.7ms\n",
      "Speed: 1.0ms preprocess, 53.7ms inference, 0.0ms postprocess per image at shape (1, 3, 128, 1024)\n",
      "\n",
      "0: 128x1024 1 humans, 52.1ms\n"
     ]
    },
    {
     "name": "stdout",
     "output_type": "stream",
     "text": [
      "{'preprocess': 1.0027885437011719, 'inference': 51.633358001708984, 'postprocess': 0.0}\n",
      "{'preprocess': 1.0025501251220703, 'inference': 53.71522903442383, 'postprocess': 0.0}\n"
     ]
    },
    {
     "name": "stderr",
     "output_type": "stream",
     "text": [
      "Speed: 1.0ms preprocess, 52.1ms inference, 0.0ms postprocess per image at shape (1, 3, 128, 1024)\n",
      "\n",
      "0: 128x1024 1 humans, 55.8ms\n",
      "Speed: 0.0ms preprocess, 55.8ms inference, 1.0ms postprocess per image at shape (1, 3, 128, 1024)\n",
      "\n",
      "0: 128x1024 1 humans, 56.5ms\n"
     ]
    },
    {
     "name": "stdout",
     "output_type": "stream",
     "text": [
      "{'preprocess': 1.0025501251220703, 'inference': 52.135467529296875, 'postprocess': 0.0}\n",
      "{'preprocess': 0.0, 'inference': 55.78923225402832, 'postprocess': 1.0004043579101562}\n"
     ]
    },
    {
     "name": "stderr",
     "output_type": "stream",
     "text": [
      "Speed: 1.0ms preprocess, 56.5ms inference, 1.0ms postprocess per image at shape (1, 3, 128, 1024)\n",
      "\n",
      "0: 128x1024 1 humans, 57.3ms\n",
      "Speed: 0.0ms preprocess, 57.3ms inference, 1.5ms postprocess per image at shape (1, 3, 128, 1024)\n",
      "\n",
      "0: 128x1024 1 humans, 50.5ms\n"
     ]
    },
    {
     "name": "stdout",
     "output_type": "stream",
     "text": [
      "{'preprocess': 1.0027885437011719, 'inference': 56.51140213012695, 'postprocess': 1.0025501251220703}\n",
      "{'preprocess': 0.0, 'inference': 57.31487274169922, 'postprocess': 1.4891624450683594}\n"
     ]
    },
    {
     "name": "stderr",
     "output_type": "stream",
     "text": [
      "Speed: 1.0ms preprocess, 50.5ms inference, 1.2ms postprocess per image at shape (1, 3, 128, 1024)\n",
      "\n",
      "0: 128x1024 2 humanss, 54.0ms\n",
      "Speed: 1.0ms preprocess, 54.0ms inference, 0.0ms postprocess per image at shape (1, 3, 128, 1024)\n",
      "\n",
      "0: 128x1024 2 humanss, 47.2ms\n"
     ]
    },
    {
     "name": "stdout",
     "output_type": "stream",
     "text": [
      "{'preprocess': 1.0023117065429688, 'inference': 50.46725273132324, 'postprocess': 1.203298568725586}\n",
      "{'preprocess': 1.0027885437011719, 'inference': 54.00967597961426, 'postprocess': 0.0}\n"
     ]
    },
    {
     "name": "stderr",
     "output_type": "stream",
     "text": [
      "Speed: 0.0ms preprocess, 47.2ms inference, 1.0ms postprocess per image at shape (1, 3, 128, 1024)\n",
      "\n",
      "0: 128x1024 1 humans, 53.5ms\n",
      "Speed: 1.0ms preprocess, 53.5ms inference, 1.0ms postprocess per image at shape (1, 3, 128, 1024)\n",
      "\n",
      "0: 128x1024 1 humans, 54.1ms\n"
     ]
    },
    {
     "name": "stdout",
     "output_type": "stream",
     "text": [
      "{'preprocess': 0.0, 'inference': 47.2261905670166, 'postprocess': 1.0025501251220703}\n",
      "{'preprocess': 1.003265380859375, 'inference': 53.53260040283203, 'postprocess': 1.0025501251220703}\n"
     ]
    },
    {
     "name": "stderr",
     "output_type": "stream",
     "text": [
      "Speed: 1.5ms preprocess, 54.1ms inference, 0.0ms postprocess per image at shape (1, 3, 128, 1024)\n",
      "\n",
      "0: 128x1024 1 humans, 56.5ms\n",
      "Speed: 1.0ms preprocess, 56.5ms inference, 1.0ms postprocess per image at shape (1, 3, 128, 1024)\n",
      "\n",
      "0: 128x1024 1 humans, 54.5ms\n"
     ]
    },
    {
     "name": "stdout",
     "output_type": "stream",
     "text": [
      "{'preprocess': 1.5072822570800781, 'inference': 54.09526824951172, 'postprocess': 0.0}\n",
      "{'preprocess': 1.004934310913086, 'inference': 56.481361389160156, 'postprocess': 1.003265380859375}\n"
     ]
    },
    {
     "name": "stderr",
     "output_type": "stream",
     "text": [
      "Speed: 1.1ms preprocess, 54.5ms inference, 0.0ms postprocess per image at shape (1, 3, 128, 1024)\n",
      "\n",
      "0: 128x1024 1 humans, 55.1ms\n",
      "Speed: 1.0ms preprocess, 55.1ms inference, 1.0ms postprocess per image at shape (1, 3, 128, 1024)\n",
      "\n"
     ]
    },
    {
     "name": "stdout",
     "output_type": "stream",
     "text": [
      "{'preprocess': 1.062154769897461, 'inference': 54.54230308532715, 'postprocess': 0.0}\n",
      "{'preprocess': 1.0030269622802734, 'inference': 55.10210990905762, 'postprocess': 1.0058879852294922}\n"
     ]
    },
    {
     "name": "stderr",
     "output_type": "stream",
     "text": [
      "0: 128x1024 1 humans, 54.7ms\n",
      "Speed: 1.0ms preprocess, 54.7ms inference, 1.0ms postprocess per image at shape (1, 3, 128, 1024)\n",
      "\n",
      "0: 128x1024 1 humans, 67.1ms\n",
      "Speed: 0.0ms preprocess, 67.1ms inference, 0.0ms postprocess per image at shape (1, 3, 128, 1024)\n",
      "\n",
      "0: 128x1024 1 humans, 56.2ms\n"
     ]
    },
    {
     "name": "stdout",
     "output_type": "stream",
     "text": [
      "{'preprocess': 1.0030269622802734, 'inference': 54.657936096191406, 'postprocess': 1.0020732879638672}\n",
      "{'preprocess': 0.0, 'inference': 67.14653968811035, 'postprocess': 0.0}\n"
     ]
    },
    {
     "name": "stderr",
     "output_type": "stream",
     "text": [
      "Speed: 0.0ms preprocess, 56.2ms inference, 1.0ms postprocess per image at shape (1, 3, 128, 1024)\n",
      "\n",
      "0: 128x1024 1 humans, 54.9ms\n",
      "Speed: 0.0ms preprocess, 54.9ms inference, 0.0ms postprocess per image at shape (1, 3, 128, 1024)\n",
      "\n",
      "0: 128x1024 1 humans, 51.9ms\n"
     ]
    },
    {
     "name": "stdout",
     "output_type": "stream",
     "text": [
      "{'preprocess': 0.0, 'inference': 56.24198913574219, 'postprocess': 0.9999275207519531}\n",
      "{'preprocess': 0.0, 'inference': 54.9473762512207, 'postprocess': 0.0}\n"
     ]
    },
    {
     "name": "stderr",
     "output_type": "stream",
     "text": [
      "Speed: 1.0ms preprocess, 51.9ms inference, 0.0ms postprocess per image at shape (1, 3, 128, 1024)\n",
      "\n",
      "0: 128x1024 1 humans, 53.6ms\n",
      "Speed: 0.0ms preprocess, 53.6ms inference, 0.0ms postprocess per image at shape (1, 3, 128, 1024)\n",
      "\n",
      "0: 128x1024 1 humans, 54.3ms\n"
     ]
    },
    {
     "name": "stdout",
     "output_type": "stream",
     "text": [
      "{'preprocess': 1.0030269622802734, 'inference': 51.85198783874512, 'postprocess': 0.0}\n",
      "{'preprocess': 0.0, 'inference': 53.61652374267578, 'postprocess': 0.0}\n"
     ]
    },
    {
     "name": "stderr",
     "output_type": "stream",
     "text": [
      "Speed: 1.3ms preprocess, 54.3ms inference, 1.0ms postprocess per image at shape (1, 3, 128, 1024)\n",
      "\n",
      "0: 128x1024 1 humans, 56.0ms\n",
      "Speed: 0.0ms preprocess, 56.0ms inference, 0.0ms postprocess per image at shape (1, 3, 128, 1024)\n",
      "\n",
      "0: 128x1024 1 humans, 57.0ms\n"
     ]
    },
    {
     "name": "stdout",
     "output_type": "stream",
     "text": [
      "{'preprocess': 1.2934207916259766, 'inference': 54.33392524719238, 'postprocess': 1.0030269622802734}\n",
      "{'preprocess': 0.0, 'inference': 56.00690841674805, 'postprocess': 0.0}\n"
     ]
    },
    {
     "name": "stderr",
     "output_type": "stream",
     "text": [
      "Speed: 0.0ms preprocess, 57.0ms inference, 0.0ms postprocess per image at shape (1, 3, 128, 1024)\n",
      "\n",
      "0: 128x1024 1 humans, 57.0ms\n",
      "Speed: 1.0ms preprocess, 57.0ms inference, 1.0ms postprocess per image at shape (1, 3, 128, 1024)\n",
      "\n",
      "0: 128x1024 1 humans, 55.8ms\n",
      "Speed: 0.0ms preprocess, 55.8ms inference, 0.0ms postprocess per image at shape (1, 3, 128, 1024)\n",
      "\n"
     ]
    },
    {
     "name": "stdout",
     "output_type": "stream",
     "text": [
      "{'preprocess': 0.0, 'inference': 56.962013244628906, 'postprocess': 0.0}\n",
      "{'preprocess': 0.9999275207519531, 'inference': 57.03425407409668, 'postprocess': 1.0025501251220703}\n",
      "{'preprocess': 0.0, 'inference': 55.82094192504883, 'postprocess': 0.0}\n"
     ]
    },
    {
     "name": "stderr",
     "output_type": "stream",
     "text": [
      "0: 128x1024 1 humans, 57.6ms\n",
      "Speed: 0.0ms preprocess, 57.6ms inference, 1.0ms postprocess per image at shape (1, 3, 128, 1024)\n",
      "\n",
      "0: 128x1024 1 humans, 56.1ms\n",
      "Speed: 1.0ms preprocess, 56.1ms inference, 1.0ms postprocess per image at shape (1, 3, 128, 1024)\n",
      "\n",
      "0: 128x1024 1 humans, 55.0ms\n",
      "Speed: 1.0ms preprocess, 55.0ms inference, 1.0ms postprocess per image at shape (1, 3, 128, 1024)\n"
     ]
    },
    {
     "name": "stdout",
     "output_type": "stream",
     "text": [
      "{'preprocess': 0.0, 'inference': 57.55352973937988, 'postprocess': 1.0025501251220703}\n",
      "{'preprocess': 1.0030269622802734, 'inference': 56.105852127075195, 'postprocess': 1.0030269622802734}\n",
      "{'preprocess': 1.0294914245605469, 'inference': 54.97622489929199, 'postprocess': 1.0023117065429688}\n"
     ]
    },
    {
     "name": "stderr",
     "output_type": "stream",
     "text": [
      "\n",
      "0: 128x1024 1 humans, 52.3ms\n",
      "Speed: 0.0ms preprocess, 52.3ms inference, 0.0ms postprocess per image at shape (1, 3, 128, 1024)\n",
      "\n",
      "0: 128x1024 (no detections), 54.1ms\n",
      "Speed: 1.0ms preprocess, 54.1ms inference, 0.0ms postprocess per image at shape (1, 3, 128, 1024)\n",
      "\n",
      "0: 128x1024 (no detections), 53.7ms\n",
      "Speed: 1.0ms preprocess, 53.7ms inference, 0.0ms postprocess per image at shape (1, 3, 128, 1024)\n",
      "\n"
     ]
    },
    {
     "name": "stdout",
     "output_type": "stream",
     "text": [
      "{'preprocess': 0.0, 'inference': 52.277326583862305, 'postprocess': 0.0}\n",
      "{'preprocess': 1.0027885437011719, 'inference': 54.141998291015625, 'postprocess': 0.0}\n",
      "{'preprocess': 1.0027885437011719, 'inference': 53.705692291259766, 'postprocess': 0.0}\n"
     ]
    },
    {
     "name": "stderr",
     "output_type": "stream",
     "text": [
      "0: 128x1024 (no detections), 58.3ms\n",
      "Speed: 1.1ms preprocess, 58.3ms inference, 1.0ms postprocess per image at shape (1, 3, 128, 1024)\n",
      "\n",
      "0: 128x1024 (no detections), 54.5ms\n",
      "Speed: 0.0ms preprocess, 54.5ms inference, 0.0ms postprocess per image at shape (1, 3, 128, 1024)\n",
      "\n",
      "0: 128x1024 (no detections), 54.1ms\n"
     ]
    },
    {
     "name": "stdout",
     "output_type": "stream",
     "text": [
      "{'preprocess': 1.0879039764404297, 'inference': 58.30526351928711, 'postprocess': 1.0013580322265625}\n",
      "{'preprocess': 0.0, 'inference': 54.5194149017334, 'postprocess': 0.0}\n"
     ]
    },
    {
     "name": "stderr",
     "output_type": "stream",
     "text": [
      "Speed: 0.0ms preprocess, 54.1ms inference, 1.0ms postprocess per image at shape (1, 3, 128, 1024)\n",
      "\n",
      "0: 128x1024 (no detections), 62.1ms\n",
      "Speed: 0.0ms preprocess, 62.1ms inference, 0.0ms postprocess per image at shape (1, 3, 128, 1024)\n",
      "\n",
      "0: 128x1024 (no detections), 56.5ms\n"
     ]
    },
    {
     "name": "stdout",
     "output_type": "stream",
     "text": [
      "{'preprocess': 0.0, 'inference': 54.05998229980469, 'postprocess': 1.0027885437011719}\n",
      "{'preprocess': 0.0, 'inference': 62.06941604614258, 'postprocess': 0.0}\n"
     ]
    },
    {
     "name": "stderr",
     "output_type": "stream",
     "text": [
      "Speed: 0.0ms preprocess, 56.5ms inference, 0.0ms postprocess per image at shape (1, 3, 128, 1024)\n",
      "\n",
      "0: 128x1024 (no detections), 56.8ms\n",
      "Speed: 1.0ms preprocess, 56.8ms inference, 0.0ms postprocess per image at shape (1, 3, 128, 1024)\n",
      "\n",
      "0: 128x1024 (no detections), 55.8ms\n",
      "Speed: 0.0ms preprocess, 55.8ms inference, 1.3ms postprocess per image at shape (1, 3, 128, 1024)\n",
      "\n"
     ]
    },
    {
     "name": "stdout",
     "output_type": "stream",
     "text": [
      "{'preprocess': 0.0, 'inference': 56.49161338806152, 'postprocess': 0.0}\n",
      "{'preprocess': 1.003265380859375, 'inference': 56.75458908081055, 'postprocess': 0.0}\n",
      "{'preprocess': 0.0, 'inference': 55.83930015563965, 'postprocess': 1.2919902801513672}\n"
     ]
    },
    {
     "name": "stderr",
     "output_type": "stream",
     "text": [
      "0: 128x1024 2 humanss, 57.1ms\n",
      "Speed: 1.0ms preprocess, 57.1ms inference, 1.0ms postprocess per image at shape (1, 3, 128, 1024)\n",
      "\n",
      "0: 128x1024 1 humans, 52.8ms\n",
      "Speed: 0.0ms preprocess, 52.8ms inference, 1.0ms postprocess per image at shape (1, 3, 128, 1024)\n",
      "\n",
      "0: 128x1024 1 humans, 62.3ms\n"
     ]
    },
    {
     "name": "stdout",
     "output_type": "stream",
     "text": [
      "{'preprocess': 1.0030269622802734, 'inference': 57.13844299316406, 'postprocess': 1.003265380859375}\n",
      "{'preprocess': 0.0, 'inference': 52.81376838684082, 'postprocess': 1.0025501251220703}\n"
     ]
    },
    {
     "name": "stderr",
     "output_type": "stream",
     "text": [
      "Speed: 1.0ms preprocess, 62.3ms inference, 1.0ms postprocess per image at shape (1, 3, 128, 1024)\n",
      "\n",
      "0: 128x1024 1 humans, 60.5ms\n",
      "Speed: 0.0ms preprocess, 60.5ms inference, 0.0ms postprocess per image at shape (1, 3, 128, 1024)\n",
      "\n",
      "0: 128x1024 (no detections), 54.7ms\n"
     ]
    },
    {
     "name": "stdout",
     "output_type": "stream",
     "text": [
      "{'preprocess': 1.003265380859375, 'inference': 62.32595443725586, 'postprocess': 1.0027885437011719}\n",
      "{'preprocess': 0.0, 'inference': 60.520172119140625, 'postprocess': 0.0}\n"
     ]
    },
    {
     "name": "stderr",
     "output_type": "stream",
     "text": [
      "Speed: 1.0ms preprocess, 54.7ms inference, 0.0ms postprocess per image at shape (1, 3, 128, 1024)\n",
      "\n",
      "0: 128x1024 (no detections), 53.8ms\n",
      "Speed: 1.0ms preprocess, 53.8ms inference, 1.0ms postprocess per image at shape (1, 3, 128, 1024)\n",
      "\n",
      "0: 128x1024 (no detections), 54.7ms\n",
      "Speed: 1.2ms preprocess, 54.7ms inference, 1.0ms postprocess per image at shape (1, 3, 128, 1024)\n",
      "\n"
     ]
    },
    {
     "name": "stdout",
     "output_type": "stream",
     "text": [
      "{'preprocess': 1.0025501251220703, 'inference': 54.72683906555176, 'postprocess': 0.0}\n",
      "{'preprocess': 1.0025501251220703, 'inference': 53.78222465515137, 'postprocess': 1.0020732879638672}\n",
      "{'preprocess': 1.1768341064453125, 'inference': 54.73971366882324, 'postprocess': 1.0035037994384766}\n"
     ]
    },
    {
     "name": "stderr",
     "output_type": "stream",
     "text": [
      "0: 128x1024 (no detections), 53.8ms\n",
      "Speed: 1.0ms preprocess, 53.8ms inference, 1.0ms postprocess per image at shape (1, 3, 128, 1024)\n",
      "\n",
      "0: 128x1024 (no detections), 56.0ms\n",
      "Speed: 1.0ms preprocess, 56.0ms inference, 0.0ms postprocess per image at shape (1, 3, 128, 1024)\n",
      "\n",
      "0: 128x1024 (no detections), 54.3ms\n"
     ]
    },
    {
     "name": "stdout",
     "output_type": "stream",
     "text": [
      "{'preprocess': 1.0027885437011719, 'inference': 53.82871627807617, 'postprocess': 1.0027885437011719}\n",
      "{'preprocess': 1.005411148071289, 'inference': 55.957794189453125, 'postprocess': 0.0}\n"
     ]
    },
    {
     "name": "stderr",
     "output_type": "stream",
     "text": [
      "Speed: 0.0ms preprocess, 54.3ms inference, 0.0ms postprocess per image at shape (1, 3, 128, 1024)\n",
      "\n",
      "0: 128x1024 (no detections), 54.6ms\n",
      "Speed: 1.0ms preprocess, 54.6ms inference, 1.0ms postprocess per image at shape (1, 3, 128, 1024)\n",
      "\n",
      "0: 128x1024 (no detections), 52.5ms\n",
      "Speed: 0.0ms preprocess, 52.5ms inference, 0.0ms postprocess per image at shape (1, 3, 128, 1024)\n",
      "\n"
     ]
    },
    {
     "name": "stdout",
     "output_type": "stream",
     "text": [
      "{'preprocess': 0.0, 'inference': 54.334402084350586, 'postprocess': 0.0}\n",
      "{'preprocess': 1.0025501251220703, 'inference': 54.587364196777344, 'postprocess': 1.0023117065429688}\n",
      "{'preprocess': 0.0, 'inference': 52.492618560791016, 'postprocess': 0.0}\n"
     ]
    },
    {
     "name": "stderr",
     "output_type": "stream",
     "text": [
      "0: 128x1024 (no detections), 60.1ms\n",
      "Speed: 0.0ms preprocess, 60.1ms inference, 1.0ms postprocess per image at shape (1, 3, 128, 1024)\n",
      "\n",
      "0: 128x1024 (no detections), 57.9ms\n",
      "Speed: 1.4ms preprocess, 57.9ms inference, 0.0ms postprocess per image at shape (1, 3, 128, 1024)\n",
      "\n",
      "0: 128x1024 (no detections), 52.3ms\n",
      "Speed: 1.0ms preprocess, 52.3ms inference, 1.1ms postprocess per image at shape (1, 3, 128, 1024)\n",
      "\n"
     ]
    },
    {
     "name": "stdout",
     "output_type": "stream",
     "text": [
      "{'preprocess': 0.0, 'inference': 60.147762298583984, 'postprocess': 1.0023117065429688}\n",
      "{'preprocess': 1.4159679412841797, 'inference': 57.93046951293945, 'postprocess': 0.0}\n",
      "{'preprocess': 1.0027885437011719, 'inference': 52.300453186035156, 'postprocess': 1.1267662048339844}\n"
     ]
    },
    {
     "name": "stderr",
     "output_type": "stream",
     "text": [
      "0: 128x1024 (no detections), 56.1ms\n",
      "Speed: 1.5ms preprocess, 56.1ms inference, 0.0ms postprocess per image at shape (1, 3, 128, 1024)\n",
      "\n",
      "0: 128x1024 (no detections), 54.2ms\n",
      "Speed: 1.0ms preprocess, 54.2ms inference, 1.4ms postprocess per image at shape (1, 3, 128, 1024)\n"
     ]
    },
    {
     "name": "stdout",
     "output_type": "stream",
     "text": [
      "{'preprocess': 1.5079975128173828, 'inference': 56.14447593688965, 'postprocess': 0.0}\n",
      "{'preprocess': 1.0030269622802734, 'inference': 54.19611930847168, 'postprocess': 1.3697147369384766}\n"
     ]
    }
   ],
   "source": [
    "import cv2\n",
    "import numpy as np\n",
    "from ouster import client\n",
    "from ouster import pcap\n",
    "from ultralytics import YOLO\n",
    "from ouster.client import Scans, XYZLut, SensorInfo, destagger\n",
    "from contextlib import closing\n",
    "from collections import defaultdict\n",
    "\n",
    "model = YOLO('../weights/best_3000_s.pt')\n",
    "\n",
    "metadata_path = \"C:/Users/szyme/Ouster/data/PKR_test1/test4.json\"\n",
    "pcap_path = \"C:/Users/szyme/Ouster/data/PKR_test1/test4.pcap\"\n",
    "\n",
    "with open(metadata_path, 'r') as f:\n",
    "    metadata = client.SensorInfo(f.read())\n",
    "\n",
    "fps = int(str(metadata.mode)[-2:])\n",
    "width = int(str(metadata.mode)[:4])\n",
    "height = int(str(metadata.prod_line)[5:])\n",
    "\n",
    "pcap_file = pcap.Pcap(pcap_path, metadata)\n",
    "\n",
    "xyz_lut = client.XYZLut(metadata)\n",
    "\n",
    "track_history = defaultdict(lambda: [])\n",
    "\n",
    "with closing(Scans(pcap_file)) as scans:\n",
    "\n",
    "    save_path = \"C:/Users/szyme/Ouster/Dangerous-situations-with-pedastrians/results_mp4\"\n",
    "    vid_writer = cv2.VideoWriter(save_path, cv2.VideoWriter_fourcc(*'mp4v'), fps, (width, height))\n",
    "\n",
    "    i = 0\n",
    "    for scan in scans:\n",
    "        i += 1\n",
    "        sig_field = scan.field(client.ChanField.SIGNAL)\n",
    "        sig_destaggered = destagger(metadata, sig_field)\n",
    "        scaling_factor = 0.004\n",
    "        scaled_arr = sig_destaggered / (0.5 + scaling_factor * sig_destaggered)\n",
    "        signal_image = scaled_arr.astype(np.uint8)\n",
    "        combined_img = np.dstack((signal_image, signal_image, signal_image))\n",
    "\n",
    "        xyz_destaggered = client.destagger(metadata, xyz_lut(scan))\n",
    "\n",
    "        results = model.track(source=combined_img, persist=True, imgsz=1024, tracker='bytetrack.yaml')\n",
    "\n",
    "        boxes = results[0].boxes.xyxy.cpu().numpy().astype(int)\n",
    "        speed = results[0].speed\n",
    "        total_speed = \n",
    "        print(speed)\n",
    "\n",
    "        if (results[0].boxes.id == None):\n",
    "            ids = ''\n",
    "        else:\n",
    "            ids = results[0].boxes.id.cpu().numpy().astype(int)\n",
    "\n",
    "        # iteration through identified objects\n",
    "        for box, id in zip(boxes, ids):\n",
    "            center_x, center_y = int((box[0] + box[2])/2), int((box[1] + box[3])/2) #\n",
    "            xyz_val = xyz_destaggered[(center_y, center_x)]\n",
    "            track = track_history[id]\n",
    "            track.append(xyz_val)\n",
    "\n",
    "        annotated_frame = results[0].plot()\n",
    "\n",
    "        if True:\n",
    "            cv2.imshow(\"YOLOv8 Tracking\", annotated_frame)\n",
    "            cv2.waitKey(1)  # 1 millisecond\n",
    "\n",
    "        vid_writer.write(annotated_frame)\n",
    "\n",
    "        if cv2.waitKey(1) & 0xFF == ord(\"q\"):\n",
    "            break\n",
    "        if i >= 2000:\n",
    "            break\n",
    "\n",
    "    vid_writer.release()\n",
    "    cv2.destroyAllWindows()"
   ]
  }
 ],
 "metadata": {
  "kernelspec": {
   "display_name": ".venv",
   "language": "python",
   "name": "python3"
  },
  "language_info": {
   "codemirror_mode": {
    "name": "ipython",
    "version": 3
   },
   "file_extension": ".py",
   "mimetype": "text/x-python",
   "name": "python",
   "nbconvert_exporter": "python",
   "pygments_lexer": "ipython3",
   "version": "3.9.13"
  }
 },
 "nbformat": 4,
 "nbformat_minor": 2
}
