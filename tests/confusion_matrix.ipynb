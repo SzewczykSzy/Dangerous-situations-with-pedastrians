{
 "cells": [
  {
   "cell_type": "code",
   "execution_count": 1,
   "metadata": {},
   "outputs": [],
   "source": [
    "import numpy as np\n",
    "\n",
    "# Example confusion matrix (replace with your confusion matrix)\n",
    "confusion_matrix = np.array([[19, 5, 0, 0],\n",
    "                             [9, 10, 2, 0],\n",
    "                             [2, 2, 12, 3],\n",
    "                             [8, 3, 6, 13]])"
   ]
  },
  {
   "cell_type": "code",
   "execution_count": 2,
   "metadata": {},
   "outputs": [
    {
     "name": "stdout",
     "output_type": "stream",
     "text": [
      "Precision for each class: [0.5    0.5    0.6    0.8125]\n"
     ]
    }
   ],
   "source": [
    "precision = np.zeros(confusion_matrix.shape[0])\n",
    "for i in range(confusion_matrix.shape[0]):\n",
    "    true_positive = confusion_matrix[i, i]\n",
    "    total_predicted_positive = np.sum(confusion_matrix[:, i])\n",
    "    precision[i] = true_positive / total_predicted_positive if total_predicted_positive > 0 else 0\n",
    "\n",
    "print(\"Precision for each class:\", precision)"
   ]
  },
  {
   "cell_type": "code",
   "execution_count": 3,
   "metadata": {},
   "outputs": [
    {
     "name": "stdout",
     "output_type": "stream",
     "text": [
      "Recall for each class: [0.79166667 0.47619048 0.63157895 0.43333333]\n"
     ]
    }
   ],
   "source": [
    "recall = np.zeros(confusion_matrix.shape[0])\n",
    "for i in range(confusion_matrix.shape[0]):\n",
    "    true_positive = confusion_matrix[i, i]\n",
    "    total_actual_positive = np.sum(confusion_matrix[i, :])\n",
    "    recall[i] = true_positive / total_actual_positive if total_actual_positive > 0 else 0\n",
    "\n",
    "print(\"Recall for each class:\", recall)"
   ]
  },
  {
   "cell_type": "code",
   "execution_count": 4,
   "metadata": {},
   "outputs": [],
   "source": [
    "confusion_matrix = np.array([[12, 3],\n",
    "                             [6, 13]])"
   ]
  },
  {
   "cell_type": "code",
   "execution_count": 5,
   "metadata": {},
   "outputs": [
    {
     "name": "stdout",
     "output_type": "stream",
     "text": [
      "Precision for each class: [0.66666667 0.8125    ]\n",
      "Recall for each class: [0.8        0.68421053]\n"
     ]
    }
   ],
   "source": [
    "precision = np.zeros(confusion_matrix.shape[0])\n",
    "for i in range(confusion_matrix.shape[0]):\n",
    "    true_positive = confusion_matrix[i, i]\n",
    "    total_predicted_positive = np.sum(confusion_matrix[:, i])\n",
    "    precision[i] = true_positive / total_predicted_positive if total_predicted_positive > 0 else 0\n",
    "\n",
    "print(\"Precision for each class:\", precision)\n",
    "\n",
    "recall = np.zeros(confusion_matrix.shape[0])\n",
    "for i in range(confusion_matrix.shape[0]):\n",
    "    true_positive = confusion_matrix[i, i]\n",
    "    total_actual_positive = np.sum(confusion_matrix[i, :])\n",
    "    recall[i] = true_positive / total_actual_positive if total_actual_positive > 0 else 0\n",
    "\n",
    "print(\"Recall for each class:\", recall)"
   ]
  }
 ],
 "metadata": {
  "kernelspec": {
   "display_name": ".venv",
   "language": "python",
   "name": "python3"
  },
  "language_info": {
   "codemirror_mode": {
    "name": "ipython",
    "version": 3
   },
   "file_extension": ".py",
   "mimetype": "text/x-python",
   "name": "python",
   "nbconvert_exporter": "python",
   "pygments_lexer": "ipython3",
   "version": "3.9.13"
  }
 },
 "nbformat": 4,
 "nbformat_minor": 2
}
