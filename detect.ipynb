{
 "cells": [
  {
   "cell_type": "code",
   "execution_count": null,
   "metadata": {},
   "outputs": [],
   "source": [
    "from ultralytics import YOLO\n",
    "\n",
    "# Load a model\n",
    "model = YOLO('weights/best.pt')  # pretrained YOLOv8n model\n",
    "\n",
    "# Run batched inference on a list of images\n",
    "results = model([\"img_sample/extract840.jpg\", 'img_sample/extract841.jpg'])  # return a list of Results objects\n",
    "\n",
    "# Process results list\n",
    "for result in results:\n",
    "    boxes = result.boxes  # Boxes object for bbox outputs\n",
    "    masks = result.masks  # Masks object for segmentation masks outputs\n",
    "    keypoints = result.keypoints  # Keypoints object for pose outputs\n",
    "    probs = result.probs  # Probs object for classification outputs"
   ]
  },
  {
   "cell_type": "markdown",
   "metadata": {},
   "source": [
    "# Inference Arguments"
   ]
  },
  {
   "cell_type": "code",
   "execution_count": null,
   "metadata": {},
   "outputs": [],
   "source": [
    "from ultralytics import YOLO\n",
    "\n",
    "# Load a pretrained YOLOv8n model\n",
    "model = YOLO('weights/best.pt')\n",
    "\n",
    "# Run inference on 'bus.jpg' with arguments\n",
    "result = model.predict('img_sample/extract840.jpg', save=False, imgsz=1024, conf=0.4)"
   ]
  },
  {
   "cell_type": "markdown",
   "metadata": {},
   "source": [
    "# Boxes"
   ]
  },
  {
   "cell_type": "code",
   "execution_count": null,
   "metadata": {},
   "outputs": [],
   "source": [
    "from ultralytics import YOLO\n",
    "\n",
    "# Load a pretrained YOLOv8n model\n",
    "model = YOLO('weights/best.pt')\n",
    "\n",
    "# Run inference on an image\n",
    "results = model.predict('img_sample/extract840.jpg', save=False, imgsz=1024, conf=0.5)  # results list\n",
    "\n",
    "# View results\n",
    "for r in results:\n",
    "    print(r.boxes)  # print the Boxes object containing the detection bounding boxes"
   ]
  },
  {
   "cell_type": "markdown",
   "metadata": {},
   "source": [
    "# Masks"
   ]
  },
  {
   "cell_type": "code",
   "execution_count": null,
   "metadata": {},
   "outputs": [],
   "source": [
    "from ultralytics import YOLO\n",
    "\n",
    "# Load a pretrained YOLOv8n-seg Segment model\n",
    "model = YOLO('weights/best.pt')\n",
    "\n",
    "# Run inference on an image\n",
    "results = model.predict('img_sample/extract840.jpg', save=False, imgsz=1024, conf=0.5)  # results list\n",
    "\n",
    "# View results\n",
    "for r in results:\n",
    "    print(r.masks)  # print the Masks object containing the detected instance masks"
   ]
  },
  {
   "cell_type": "markdown",
   "metadata": {},
   "source": [
    "# Keypoints"
   ]
  },
  {
   "cell_type": "code",
   "execution_count": null,
   "metadata": {},
   "outputs": [],
   "source": [
    "from ultralytics import YOLO\n",
    "\n",
    "# Load a pretrained YOLOv8n-pose Pose model\n",
    "model = YOLO('weights/best.pt')\n",
    "\n",
    "# Run inference on an image\n",
    "results = model.predict('img_sample/extract840.jpg', save=False, imgsz=1024, conf=0.5)  # results list\n",
    "\n",
    "# View results\n",
    "for r in results:\n",
    "    print(r.keypoints)  # print the Keypoints object containing the detected keypoints\n"
   ]
  },
  {
   "cell_type": "markdown",
   "metadata": {},
   "source": [
    "# Probs"
   ]
  },
  {
   "cell_type": "code",
   "execution_count": null,
   "metadata": {},
   "outputs": [],
   "source": [
    "from ultralytics import YOLO\n",
    "\n",
    "# Load a pretrained YOLOv8n-cls Classify model\n",
    "model = YOLO('weights/best.pt')\n",
    "\n",
    "# Run inference on an image\n",
    "results = model.predict('img_sample/extract840.jpg', save=False, imgsz=1024, conf=0.5)  # results list\n",
    "\n",
    "# View results\n",
    "for r in results:\n",
    "    print(r.probs)  # print the Probs object containing the detected class probabilities\n"
   ]
  },
  {
   "cell_type": "markdown",
   "metadata": {},
   "source": [
    "# Plotting Results"
   ]
  },
  {
   "cell_type": "code",
   "execution_count": null,
   "metadata": {},
   "outputs": [],
   "source": [
    "from PIL import Image\n",
    "from ultralytics import YOLO\n",
    "\n",
    "# Load a pretrained YOLOv8n model\n",
    "model = YOLO('weights/best.pt')\n",
    "\n",
    "# Run inference on an image\n",
    "results = model.predict('img_sample/extract840.jpg', save=False, imgsz=1024, conf=0.5)  # results list\n",
    "\n",
    "# Show the results\n",
    "for r in results:\n",
    "    im_array = r.plot()  # plot a BGR numpy array of predictions\n",
    "    im = Image.fromarray(im_array[..., ::-1])  # RGB PIL image\n",
    "    im.show()  # show image\n",
    "    # im.save('results.jpg')  # save image"
   ]
  },
  {
   "cell_type": "markdown",
   "metadata": {},
   "source": [
    "# Streaming Source for-loop"
   ]
  },
  {
   "cell_type": "code",
   "execution_count": null,
   "metadata": {},
   "outputs": [],
   "source": [
    "import cv2\n",
    "import numpy as np\n",
    "import matplotlib.pyplot as plt\n",
    "from PIL import Image\n",
    "from ouster import client\n",
    "from ouster import pcap\n",
    "# from ouster.sdk import viz\n",
    "from ouster.client import Scans\n",
    "from ouster.client.data import LidarScan\n",
    "from ultralytics import YOLO\n",
    "from contextlib import closing\n",
    "\n",
    "\n",
    "\n",
    "# Load the YOLOv8 model\n",
    "model = YOLO('weights/best_x_0_92mAP50.pt')\n",
    "\n",
    "# Paths to pcap and json files\n",
    "# test_2_wilanow\n",
    "metadata_path = \"C:/Users/szyme/Ouster/data/PKR_test2/test_2_wilanow.json\"\n",
    "pcap_path = \"C:/Users/szyme/Ouster/data/PKR_test2/test_2_wilanow.pcap\"\n",
    "\n",
    "# Making PacketSource from data\n",
    "with open(metadata_path, 'r') as f:\n",
    "    metadata = client.SensorInfo(f.read())\n",
    "\n",
    "\n",
    "fps = int(str(metadata.mode)[-2:])\n",
    "width = int(str(metadata.mode)[:4])\n",
    "height = int(str(metadata.prod_line)[5:])\n",
    "\n",
    "pcap_file = pcap.Pcap(pcap_path, metadata)\n",
    "\n",
    "with closing(client.Scans(pcap_file)) as scans:\n",
    "\n",
    "    save_path = \"C:/Users/szyme/Ouster/YOLOv8/results_mp4\"\n",
    "    vid_writer = cv2.VideoWriter(save_path, cv2.VideoWriter_fourcc(*'mp4v'), fps, (width, height))\n",
    "\n",
    "    for scan in scans:\n",
    "        # Create signal image\n",
    "        sig_field = scan.field(client.ChanField.SIGNAL)\n",
    "        sig_destaggered = client.destagger(pcap_file.metadata, sig_field)\n",
    "\n",
    "        # Define a scaling factor based on the values (adjust this as needed)\n",
    "        scaling_factor = 0.004\n",
    "        # Lower the elements based on their values\n",
    "        lowered_arr = sig_destaggered / (0.5 + scaling_factor * sig_destaggered) # BASIC\n",
    "        # Convert to uint8\n",
    "        signal_image = lowered_arr.astype(np.uint8)\n",
    "        combined_img = np.dstack((signal_image, signal_image, signal_image))\n",
    "        # print(signal_image.shape)\n",
    "\n",
    "        # Create range image (for localization, distance measurement)\n",
    "        range_field = scan.field(client.ChanField.RANGE)\n",
    "        range_image = client.destagger(pcap_file.metadata, range_field)\n",
    "\n",
    "\n",
    "        # Predict image\n",
    "        results = model.predict(combined_img, save=False, imgsz=1024, conf=0.5)\n",
    "        # results = model.track(source=combined_img, persist=True, iou=0.5, conf=0.4, tracker='botsort.yaml')\n",
    "            \n",
    "        # Visualize the results on the frame\n",
    "        annotated_frame = results[0].plot()\n",
    "\n",
    "        # Stream results\n",
    "        if True:\n",
    "            cv2.imshow(\"YOLOv8 Tracking\", annotated_frame)\n",
    "            cv2.waitKey(1)  # 1 millisecond\n",
    "\n",
    "        vid_writer.write(annotated_frame)\n",
    "\n",
    "        if cv2.waitKey(1) & 0xFF == ord(\"q\"):\n",
    "            break\n",
    "\n",
    "    vid_writer.release()\n",
    "    cv2.destroyAllWindows()"
   ]
  }
 ],
 "metadata": {
  "kernelspec": {
   "display_name": ".venv",
   "language": "python",
   "name": "python3"
  },
  "language_info": {
   "codemirror_mode": {
    "name": "ipython",
    "version": 3
   },
   "file_extension": ".py",
   "mimetype": "text/x-python",
   "name": "python",
   "nbconvert_exporter": "python",
   "pygments_lexer": "ipython3",
   "version": "3.9.13"
  }
 },
 "nbformat": 4,
 "nbformat_minor": 2
}
